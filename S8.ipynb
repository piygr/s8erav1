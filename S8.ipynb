{
 "cells": [
  {
   "cell_type": "code",
   "execution_count": 1,
   "metadata": {},
   "outputs": [
    {
     "name": "stdout",
     "output_type": "stream",
     "text": [
      "CUDA Available? False\n"
     ]
    }
   ],
   "source": [
    "import torch.optim as optim\n",
    "from utils import torch, cuda, plot_dataset_sample, test, train, plot_model_performance, plot_incorrect_preds\n",
    "from dataset import get_loader, dataset_mean, dataset_std\n",
    "from model import nn, S8Model\n",
    "from torchsummary import summary"
   ]
  },
  {
   "cell_type": "code",
   "execution_count": 2,
   "metadata": {},
   "outputs": [
    {
     "name": "stdout",
     "output_type": "stream",
     "text": [
      "Files already downloaded and verified\n",
      "Files already downloaded and verified\n",
      "Files already downloaded and verified\n"
     ]
    }
   ],
   "source": [
    "batch_size = 64\n",
    "\n",
    "kwargs = {'batch_size': batch_size, 'shuffle': True, 'num_workers': 2, 'pin_memory': True}\n",
    "\n",
    "train_loader, test_loader = get_loader(**kwargs)\n"
   ]
  },
  {
   "cell_type": "code",
   "execution_count": 3,
   "metadata": {},
   "outputs": [
    {
     "name": "stderr",
     "output_type": "stream",
     "text": [
      "Clipping input data to the valid range for imshow with RGB data ([0..1] for floats or [0..255] for integers).\n",
      "Clipping input data to the valid range for imshow with RGB data ([0..1] for floats or [0..255] for integers).\n",
      "Clipping input data to the valid range for imshow with RGB data ([0..1] for floats or [0..255] for integers).\n"
     ]
    },
    {
     "data": {
      "image/png": "[encoded data removed]",
      "text/plain": [
       "<Figure size 640x480 with 3 Axes>"
      ]
     },
     "metadata": {},
     "output_type": "display_data"
    }
   ],
   "source": [
    "plot_dataset_sample(test_loader, dataset_mean, dataset_std)"
   ]
  },
  {
   "cell_type": "code",
   "execution_count": 4,
   "metadata": {},
   "outputs": [
    {
     "name": "stdout",
     "output_type": "stream",
     "text": [
      "----------------------------------------------------------------\n",
      "        Layer (type)               Output Shape         Param #\n",
      "================================================================\n",
      "            Conv2d-1           [-1, 10, 32, 32]             280\n",
      "         GroupNorm-2           [-1, 10, 32, 32]              20\n",
      "         Dropout2d-3           [-1, 10, 32, 32]               0\n",
      "            Conv2d-4           [-1, 10, 32, 32]             910\n",
      "         GroupNorm-5           [-1, 10, 32, 32]              20\n",
      "         Dropout2d-6           [-1, 10, 32, 32]               0\n",
      "            Conv2d-7            [-1, 5, 32, 32]              55\n",
      "         MaxPool2d-8            [-1, 5, 16, 16]               0\n",
      "            Conv2d-9           [-1, 20, 16, 16]             920\n",
      "        GroupNorm-10           [-1, 20, 16, 16]              40\n",
      "        Dropout2d-11           [-1, 20, 16, 16]               0\n",
      "           Conv2d-12           [-1, 20, 16, 16]           3,620\n",
      "        GroupNorm-13           [-1, 20, 16, 16]              40\n",
      "        Dropout2d-14           [-1, 20, 16, 16]               0\n",
      "           Conv2d-15           [-1, 20, 16, 16]           3,620\n",
      "        GroupNorm-16           [-1, 20, 16, 16]              40\n",
      "        Dropout2d-17           [-1, 20, 16, 16]               0\n",
      "           Conv2d-18           [-1, 10, 16, 16]             210\n",
      "        MaxPool2d-19             [-1, 10, 8, 8]               0\n",
      "           Conv2d-20             [-1, 20, 8, 8]           1,820\n",
      "        GroupNorm-21             [-1, 20, 8, 8]              40\n",
      "        Dropout2d-22             [-1, 20, 8, 8]               0\n",
      "           Conv2d-23             [-1, 20, 8, 8]           3,620\n",
      "        GroupNorm-24             [-1, 20, 8, 8]              40\n",
      "        Dropout2d-25             [-1, 20, 8, 8]               0\n",
      "           Conv2d-26             [-1, 20, 8, 8]           3,620\n",
      "        GroupNorm-27             [-1, 20, 8, 8]              40\n",
      "        Dropout2d-28             [-1, 20, 8, 8]               0\n",
      "        AvgPool2d-29             [-1, 20, 1, 1]               0\n",
      "           Conv2d-30             [-1, 10, 1, 1]             210\n",
      "================================================================\n",
      "Total params: 19,165\n",
      "Trainable params: 19,165\n",
      "Non-trainable params: 0\n",
      "----------------------------------------------------------------\n",
      "Input size (MB): 0.01\n",
      "Forward/backward pass size (MB): 0.98\n",
      "Params size (MB): 0.07\n",
      "Estimated Total Size (MB): 1.07\n",
      "----------------------------------------------------------------\n"
     ]
    }
   ],
   "source": [
    "device = torch.device(\"cuda\" if cuda else \"cpu\")\n",
    "model = S8Model(16, norm='gn').to(device)\n",
    "summary(model, input_size=(3, 32, 32))"
   ]
  },
  {
   "cell_type": "code",
   "execution_count": null,
   "metadata": {},
   "outputs": [
    {
     "name": "stdout",
     "output_type": "stream",
     "text": [
      "Adjusting learning rate of group 0 to 1.0000e-02.\n",
      "Epoch 1\n"
     ]
    },
    {
     "name": "stderr",
     "output_type": "stream",
     "text": [
      "Train: Loss=1.8758 Batch_id=781 Accuracy=28.19: 100%|██████████| 782/782 [01:24<00:00,  9.28it/s]\n"
     ]
    },
    {
     "name": "stdout",
     "output_type": "stream",
     "text": [
      "Test set: Average loss: 1.6342, Accuracy: 3797/10000 (37.97%)\n",
      "\n",
      "Adjusting learning rate of group 0 to 1.0000e-02.\n",
      "Epoch 2\n"
     ]
    },
    {
     "name": "stderr",
     "output_type": "stream",
     "text": [
      "Train: Loss=1.2756 Batch_id=781 Accuracy=44.48: 100%|██████████| 782/782 [01:46<00:00,  7.36it/s]\n"
     ]
    },
    {
     "name": "stdout",
     "output_type": "stream",
     "text": [
      "Test set: Average loss: 1.4120, Accuracy: 4708/10000 (47.08%)\n",
      "\n",
      "Adjusting learning rate of group 0 to 1.0000e-02.\n",
      "Epoch 3\n"
     ]
    },
    {
     "name": "stderr",
     "output_type": "stream",
     "text": [
      "Train: Loss=1.2898 Batch_id=781 Accuracy=51.80: 100%|██████████| 782/782 [01:33<00:00,  8.34it/s]\n"
     ]
    },
    {
     "name": "stdout",
     "output_type": "stream",
     "text": [
      "Test set: Average loss: 1.2154, Accuracy: 5522/10000 (55.22%)\n",
      "\n",
      "Adjusting learning rate of group 0 to 1.0000e-02.\n",
      "Epoch 4\n"
     ]
    },
    {
     "name": "stderr",
     "output_type": "stream",
     "text": [
      "Train: Loss=1.0462 Batch_id=781 Accuracy=56.18: 100%|██████████| 782/782 [01:25<00:00,  9.15it/s]\n"
     ]
    },
    {
     "name": "stdout",
     "output_type": "stream",
     "text": [
      "Test set: Average loss: 1.1616, Accuracy: 5719/10000 (57.19%)\n",
      "\n",
      "Adjusting learning rate of group 0 to 1.0000e-02.\n",
      "Epoch 5\n"
     ]
    },
    {
     "name": "stderr",
     "output_type": "stream",
     "text": [
      "Train: Loss=1.1962 Batch_id=781 Accuracy=59.25: 100%|██████████| 782/782 [01:21<00:00,  9.57it/s]\n"
     ]
    },
    {
     "name": "stdout",
     "output_type": "stream",
     "text": [
      "Test set: Average loss: 1.1219, Accuracy: 5909/10000 (59.09%)\n",
      "\n",
      "Adjusting learning rate of group 0 to 1.0000e-02.\n",
      "Epoch 6\n"
     ]
    },
    {
     "name": "stderr",
     "output_type": "stream",
     "text": [
      "Train: Loss=1.1105 Batch_id=781 Accuracy=61.13: 100%|██████████| 782/782 [01:28<00:00,  8.84it/s]\n"
     ]
    },
    {
     "name": "stdout",
     "output_type": "stream",
     "text": [
      "Test set: Average loss: 1.0184, Accuracy: 6273/10000 (62.73%)\n",
      "\n",
      "Adjusting learning rate of group 0 to 1.0000e-02.\n",
      "Epoch 7\n"
     ]
    },
    {
     "name": "stderr",
     "output_type": "stream",
     "text": [
      "Train: Loss=0.9196 Batch_id=781 Accuracy=62.66: 100%|██████████| 782/782 [01:23<00:00,  9.40it/s]\n"
     ]
    },
    {
     "name": "stdout",
     "output_type": "stream",
     "text": [
      "Test set: Average loss: 1.0593, Accuracy: 6166/10000 (61.66%)\n",
      "\n",
      "Adjusting learning rate of group 0 to 1.0000e-03.\n",
      "Epoch 8\n"
     ]
    },
    {
     "name": "stderr",
     "output_type": "stream",
     "text": [
      "Train: Loss=0.7919 Batch_id=781 Accuracy=66.54: 100%|██████████| 782/782 [01:24<00:00,  9.24it/s]\n"
     ]
    },
    {
     "name": "stdout",
     "output_type": "stream",
     "text": [
      "Test set: Average loss: 0.9279, Accuracy: 6632/10000 (66.32%)\n",
      "\n",
      "Adjusting learning rate of group 0 to 1.0000e-03.\n",
      "Epoch 9\n"
     ]
    },
    {
     "name": "stderr",
     "output_type": "stream",
     "text": [
      "Train: Loss=0.8645 Batch_id=781 Accuracy=67.02: 100%|██████████| 782/782 [01:22<00:00,  9.44it/s]\n"
     ]
    },
    {
     "name": "stdout",
     "output_type": "stream",
     "text": [
      "Test set: Average loss: 0.9211, Accuracy: 6656/10000 (66.56%)\n",
      "\n",
      "Adjusting learning rate of group 0 to 1.0000e-03.\n",
      "Epoch 10\n"
     ]
    },
    {
     "name": "stderr",
     "output_type": "stream",
     "text": [
      "Train: Loss=1.0614 Batch_id=781 Accuracy=67.46: 100%|██████████| 782/782 [01:23<00:00,  9.36it/s]\n"
     ]
    },
    {
     "name": "stdout",
     "output_type": "stream",
     "text": [
      "Test set: Average loss: 0.9098, Accuracy: 6690/10000 (66.90%)\n",
      "\n",
      "Adjusting learning rate of group 0 to 1.0000e-03.\n",
      "Epoch 11\n"
     ]
    },
    {
     "name": "stderr",
     "output_type": "stream",
     "text": [
      "Train: Loss=0.9011 Batch_id=781 Accuracy=67.76: 100%|██████████| 782/782 [01:24<00:00,  9.26it/s]\n"
     ]
    },
    {
     "name": "stdout",
     "output_type": "stream",
     "text": [
      "Test set: Average loss: 0.9076, Accuracy: 6679/10000 (66.79%)\n",
      "\n",
      "Adjusting learning rate of group 0 to 1.0000e-03.\n",
      "Epoch 12\n"
     ]
    },
    {
     "name": "stderr",
     "output_type": "stream",
     "text": [
      "Train: Loss=1.1397 Batch_id=781 Accuracy=67.99: 100%|██████████| 782/782 [01:23<00:00,  9.34it/s]\n"
     ]
    },
    {
     "name": "stdout",
     "output_type": "stream",
     "text": [
      "Test set: Average loss: 0.9145, Accuracy: 6708/10000 (67.08%)\n",
      "\n",
      "Adjusting learning rate of group 0 to 1.0000e-03.\n",
      "Epoch 13\n"
     ]
    },
    {
     "name": "stderr",
     "output_type": "stream",
     "text": [
      "Train: Loss=0.8401 Batch_id=781 Accuracy=68.22: 100%|██████████| 782/782 [01:24<00:00,  9.23it/s]\n"
     ]
    },
    {
     "name": "stdout",
     "output_type": "stream",
     "text": [
      "Test set: Average loss: 0.9095, Accuracy: 6691/10000 (66.91%)\n",
      "\n",
      "Adjusting learning rate of group 0 to 1.0000e-03.\n",
      "Epoch 14\n"
     ]
    },
    {
     "name": "stderr",
     "output_type": "stream",
     "text": [
      "Train: Loss=1.1220 Batch_id=781 Accuracy=68.34: 100%|██████████| 782/782 [01:23<00:00,  9.36it/s]\n"
     ]
    },
    {
     "name": "stdout",
     "output_type": "stream",
     "text": [
      "Test set: Average loss: 0.9080, Accuracy: 6717/10000 (67.17%)\n",
      "\n",
      "Adjusting learning rate of group 0 to 1.0000e-04.\n",
      "Epoch 15\n"
     ]
    },
    {
     "name": "stderr",
     "output_type": "stream",
     "text": [
      "Train: Loss=0.9793 Batch_id=105 Accuracy=67.47:  14%|█▎        | 106/782 [00:15<01:16,  8.88it/s]"
     ]
    }
   ],
   "source": [
    "optimizer = optim.SGD(model.parameters(), lr=0.01, momentum=0.9)\n",
    "scheduler = optim.lr_scheduler.StepLR(optimizer, step_size=7, gamma=0.1, verbose=True)\n",
    "# New Line\n",
    "criterion = nn.CrossEntropyLoss()\n",
    "num_epochs = 20\n",
    "\n",
    "for epoch in range(1, num_epochs+1):\n",
    "  print(f'Epoch {epoch}')\n",
    "  train(model, device, train_loader, optimizer, criterion)\n",
    "  test(model, device, test_loader, criterion)\n",
    "  scheduler.step()\n",
    "  \n",
    "plot_incorrect_preds(dataset_mean, dataset_std, 15)"
   ]
  },
  {
   "cell_type": "code",
   "execution_count": null,
   "metadata": {},
   "outputs": [],
   "source": [
    "plot_model_performance()"
   ]
  }
 ],
 "metadata": {
  "kernelspec": {
   "display_name": "Python 3 (ipykernel)",
   "language": "python",
   "name": "python3"
  },
  "language_info": {
   "codemirror_mode": {
    "name": "ipython",
    "version": 3
   },
   "file_extension": ".py",
   "mimetype": "text/x-python",
   "name": "python",
   "nbconvert_exporter": "python",
   "pygments_lexer": "ipython3",
   "version": "3.8.5"
  }
 },
 "nbformat": 4,
 "nbformat_minor": 1
}
